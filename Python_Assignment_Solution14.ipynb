{
 "cells": [
  {
   "cell_type": "code",
   "execution_count": 2,
   "id": "feefcb44-359b-4030-8974-5c9e06967efd",
   "metadata": {},
   "outputs": [
    {
     "name": "stdout",
     "output_type": "stream",
     "text": [
      "1505,1540,1575,1610,1645,1680,1715,1750,1785,1820,1855,1890,1925,1960,1995,2030,2065,2100,2135,2170,2205,2240,2275,2310,2345,2380,2415,2450,2485,2520,2555,2590,2625,2660,2695\n"
     ]
    }
   ],
   "source": [
    "### 1. Define a class with a generator which can iterate the numbers, which are divisible by 7,\n",
    "###between a given range 0 and n.\n",
    "\n",
    "nl=[]\n",
    "for x in range(1500, 2701):\n",
    "    if (x%7==0) and (x%5==0):\n",
    "        nl.append(str(x))\n",
    "print (','.join(nl))"
   ]
  },
  {
   "cell_type": "code",
   "execution_count": 3,
   "id": "b886e0ce-0bee-44fa-94f6-eaffc6715eec",
   "metadata": {},
   "outputs": [
    {
     "name": "stdout",
     "output_type": "stream",
     "text": [
      "Frequency of  Apple : 1 \n",
      "Frequency of  Mango : 3 \n",
      "Frequency of  Orange : 1 \n",
      "Frequency of  Guava : 2 \n"
     ]
    }
   ],
   "source": [
    "### 2. Write a program to compute the frequency of the words from the input. The output should output after sorting the \n",
    "###key alphanumerically.\n",
    "\n",
    "\n",
    "\n",
    "def count(elements):\n",
    "    if elements[-1] == '.':\n",
    "        elements = elements[0:len(elements) - 1]\n",
    "\n",
    "\n",
    "    if elements in dictionary:\n",
    "        dictionary[elements] += 1\n",
    "\n",
    "\n",
    "    else:\n",
    "        dictionary.update({elements: 1})\n",
    "\n",
    "\n",
    "\n",
    "\n",
    "Sentence = \"Apple Mango Orange Mango Guava Guava Mango\"\n",
    "\n",
    "\n",
    "dictionary = {}\n",
    "\n",
    "\n",
    "lst = Sentence.split()\n",
    "\n",
    "\n",
    "for elements in lst:\n",
    "    count(elements)\n",
    "\n",
    "\n",
    "for allKeys in dictionary:\n",
    "    print (\"Frequency of \", allKeys, end = \" \")\n",
    "    print (\":\", end = \" \")\n",
    "    print (dictionary[allKeys], end = \" \")\n",
    "    print()"
   ]
  },
  {
   "cell_type": "code",
   "execution_count": 6,
   "id": "d6b58099-1217-4693-8cf5-b4bc136f0ad6",
   "metadata": {},
   "outputs": [
    {
     "name": "stdout",
     "output_type": "stream",
     "text": [
      "Male\n",
      "Female\n"
     ]
    }
   ],
   "source": [
    "### 3. Define a class Person and its two child classes: Male and Female. All classes have a method \"getGender\" which can\n",
    "###print \"Male\" for Male class and \"Female\" for Female class.\n",
    "class Person(object):\n",
    "    def getGender( self ):\n",
    "        return \"Unknown\"\n",
    "\n",
    "class Male( Person ):\n",
    "    def getGender( self ):\n",
    "        return \"Male\"\n",
    "\n",
    "class Female( Person ):\n",
    "    def getGender( self ):\n",
    "        return \"Female\"\n",
    "\n",
    "aMale = Male()\n",
    "aFemale= Female()\n",
    "print (aMale.getGender())\n",
    "print (aFemale.getGender())"
   ]
  },
  {
   "cell_type": "code",
   "execution_count": 8,
   "id": "6afd08dd-b755-4c5d-bcfb-6eb3fca2f8ba",
   "metadata": {},
   "outputs": [
    {
     "name": "stdout",
     "output_type": "stream",
     "text": [
      "('I', 'Play', 'Hockey')\n",
      "('I', 'Play', 'Football')\n",
      "('I', 'Love', 'Hockey')\n",
      "('I', 'Love', 'Football')\n",
      "('You', 'Play', 'Hockey')\n",
      "('You', 'Play', 'Football')\n",
      "('You', 'Love', 'Hockey')\n",
      "('You', 'Love', 'Football')\n"
     ]
    }
   ],
   "source": [
    "### 4. Please write a program to generate all sentences where subject is in [\"I\", \"You\"] and verb is in ['Play', \"Love\"] \n",
    "###and the object is in [\"Hockey\",\"Football\"].\n",
    "import itertools\n",
    "subject = [\"I\", \"You\"]\n",
    "verb = [\"Play\", \"Love\"]\n",
    "objects = [\"Hockey\",\"Football\"]\n",
    "\n",
    "sentence = [subject, verb, objects]\n",
    "n = list(itertools.product(*sentence))\n",
    "for i in n: \n",
    "    print(i)"
   ]
  },
  {
   "cell_type": "code",
   "execution_count": null,
   "id": "b979f7dc-8ad7-40cd-bf99-9efd986be4b5",
   "metadata": {},
   "outputs": [],
   "source": [
    "### 5. Please write a program to compress and decompress the string \"hello world!hello world!hello world!hello world!"
   ]
  },
  {
   "cell_type": "code",
   "execution_count": null,
   "id": "10413b00-3597-466c-8ab1-8623b267ebce",
   "metadata": {},
   "outputs": [],
   "source": [
    "### 6. Please write a binary search function which searches an item in a sorted list. The function should return the \n",
    "###index of element to be searched in the list.\n"
   ]
  }
 ],
 "metadata": {
  "kernelspec": {
   "display_name": "Python 3 (ipykernel)",
   "language": "python",
   "name": "python3"
  },
  "language_info": {
   "codemirror_mode": {
    "name": "ipython",
    "version": 3
   },
   "file_extension": ".py",
   "mimetype": "text/x-python",
   "name": "python",
   "nbconvert_exporter": "python",
   "pygments_lexer": "ipython3",
   "version": "3.10.6"
  }
 },
 "nbformat": 4,
 "nbformat_minor": 5
}
