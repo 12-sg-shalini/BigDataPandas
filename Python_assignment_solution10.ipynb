{
 "cells": [
  {
   "cell_type": "code",
   "execution_count": 2,
   "id": "de254d07-da40-4b6e-bd61-332b69182399",
   "metadata": {},
   "outputs": [
    {
     "name": "stdout",
     "output_type": "stream",
     "text": [
      "[10, 9, 7, 5]\n",
      "sum of list:  31\n"
     ]
    }
   ],
   "source": [
    "##Q1. Write a python programme to find sum of element in a list?\n",
    "\n",
    "def sumlist(list):\n",
    "    sum=0\n",
    "    for i in range(len(list)):\n",
    "        sum = sum+list[i]\n",
    "    return sum\n",
    "\n",
    "#initialise list\n",
    "list = [10, 9, 7, 5]\n",
    "print(list)\n",
    "print(\"sum of list: \",sumlist(list))"
   ]
  },
  {
   "cell_type": "code",
   "execution_count": 3,
   "id": "c28d146e-a126-467f-8740-701f2c7317fc",
   "metadata": {},
   "outputs": [
    {
     "name": "stdout",
     "output_type": "stream",
     "text": [
      "[11, 12, 4, 3]\n",
      "product: \n",
      "1584\n"
     ]
    }
   ],
   "source": [
    "##Q2. Write a python programme to Multiply all numbers in a list?\n",
    "def mul_list(list) :\n",
    "     \n",
    "    # Multiply elements one by one\n",
    "    product = 1\n",
    "    for i in list:\n",
    "         product = product * i\n",
    "    return product\n",
    "     \n",
    "\n",
    "list1 = [11, 12, 4, 3]\n",
    "print(list1)\n",
    "print(\"product: \") \n",
    "print(mul_list(list1))"
   ]
  },
  {
   "cell_type": "code",
   "execution_count": 4,
   "id": "676b547a-6c78-4c42-a5f6-e2a3afbfba19",
   "metadata": {},
   "outputs": [
    {
     "name": "stdout",
     "output_type": "stream",
     "text": [
      "smallest in  [3, 9, 7, 3, 6, 5, 7, 24, 6] is\n",
      "3\n"
     ]
    }
   ],
   "source": [
    "##Q3. Write a python programme to find smallest numbers in a list?\n",
    "def smallest(list):\n",
    "    small= list[0]\n",
    "    for i in list:\n",
    "        if i<small:\n",
    "            small=i\n",
    "    return small\n",
    "\n",
    "#list\n",
    "list=[3, 9, 7, 3, 6, 5, 7, 24, 6]\n",
    "print(\"smallest in \",list,\"is\")\n",
    "print(smallest(list))"
   ]
  },
  {
   "cell_type": "code",
   "execution_count": 5,
   "id": "39ebbd44-8b7e-4a50-876b-ca31969b7aee",
   "metadata": {},
   "outputs": [
    {
     "name": "stdout",
     "output_type": "stream",
     "text": [
      "largest in  [3, 9, 7, 3, 6, 5, 7, 24, 6] is\n",
      "24\n"
     ]
    }
   ],
   "source": [
    "##Q4. Write a python programme to find largest numbers in a list?\n",
    "def largest(list):\n",
    "    large= list[0]\n",
    "    for i in list:\n",
    "        if i>large:\n",
    "            large=i\n",
    "    return large\n",
    "\n",
    "#list\n",
    "list=[3, 9, 7, 3, 6, 5, 7, 24, 6]\n",
    "print(\"largest in \",list,\"is\")\n",
    "print(largest(list))"
   ]
  },
  {
   "cell_type": "code",
   "execution_count": 8,
   "id": "f8cf5fe9-4c42-401d-a314-3d7c8913ac66",
   "metadata": {},
   "outputs": [
    {
     "name": "stdin",
     "output_type": "stream",
     "text": [
      "Enter size of list  5\n",
      "Enter element of list  8\n",
      "Enter element of list  3\n",
      "Enter element of list  1\n",
      "Enter element of list  9\n",
      "Enter element of list  5\n"
     ]
    },
    {
     "name": "stdout",
     "output_type": "stream",
     "text": [
      "second largest in  [8, 3, 1, 9, 5] is\n",
      "8\n"
     ]
    }
   ],
   "source": [
    "##Q5. Write a python programme to find second largest numbers in a list?\n",
    "def second_largest(list):\n",
    "    list.sort()\n",
    "    return list[-2]\n",
    "\n",
    "#input of list\n",
    "li=[]\n",
    "n=int(input(\"Enter size of list \"))\n",
    "for i in range(0,n):\n",
    "    e=int(input(\"Enter element of list \"))\n",
    "    li.append(e)\n",
    "\n",
    "#smallest\n",
    "print(\"second largest in \",li,\"is\")\n",
    "print(second_largest(li))           "
   ]
  },
  {
   "cell_type": "code",
   "execution_count": 9,
   "id": "04236192-2132-4b43-9f45-98ecb013b002",
   "metadata": {},
   "outputs": [
    {
     "name": "stdout",
     "output_type": "stream",
     "text": [
      "2 max elements in  [2, 6, 41, 85, 0, 3, 7, 6, 10]\n",
      "[85, 41]\n"
     ]
    }
   ],
   "source": [
    "##Q6. Write a python programme to find N largest element in a list?\n",
    "def N_max_elements(list, N):\n",
    "    result_list = []\n",
    "  \n",
    "    for i in range(0, N): \n",
    "        maximum = 0\n",
    "          \n",
    "        for j in range(len(list)):     \n",
    "            if list[j] > maximum:\n",
    "                maximum = list[j]\n",
    "                  \n",
    "        list.remove(maximum)\n",
    "        result_list.append(maximum)\n",
    "          \n",
    "    return result_list\n",
    "  \n",
    "\n",
    "list1 = [2, 6, 41, 85, 0, 3, 7, 6, 10]\n",
    "N = 2\n",
    "\n",
    "print(N, \"max elements in \",list1)\n",
    "\n",
    "print(N_max_elements(list1, N))"
   ]
  },
  {
   "cell_type": "code",
   "execution_count": 10,
   "id": "1a2c1497-e593-4f5c-a531-8fd364622e58",
   "metadata": {},
   "outputs": [
    {
     "name": "stdin",
     "output_type": "stream",
     "text": [
      "Enter size of list  5\n",
      "Enter element of list  3\n",
      "Enter element of list  6\n",
      "Enter element of list  1\n",
      "Enter element of list  2\n",
      "Enter element of list  9\n"
     ]
    },
    {
     "name": "stdout",
     "output_type": "stream",
     "text": [
      "Even numbers in  [3, 6, 1, 2, 9]\n",
      "[6, 2]\n"
     ]
    }
   ],
   "source": [
    "##Q7. Write a python programme to find even nubers in a lists?\n",
    "def even(list):\n",
    "    new_list=[]\n",
    "    for i in list:\n",
    "        if i%2==0:               \n",
    "            new_list.append(i)\n",
    "    return new_list\n",
    "\n",
    "\n",
    "li=[]\n",
    "n=int(input(\"Enter size of list \"))\n",
    "for i in range(0,n):\n",
    "    e=int(input(\"Enter element of list \"))\n",
    "    li.append(e)\n",
    "\n",
    "print(\"Even numbers in \",li)\n",
    "print(even(li))"
   ]
  },
  {
   "cell_type": "code",
   "execution_count": 14,
   "id": "9601489a-730e-4f10-9515-86b5647ad20c",
   "metadata": {},
   "outputs": [
    {
     "name": "stdin",
     "output_type": "stream",
     "text": [
      "Enter size of list  3\n",
      "Enter element of list  4\n",
      "Enter element of list  7\n",
      "Enter element of list  9\n"
     ]
    },
    {
     "name": "stdout",
     "output_type": "stream",
     "text": [
      "Odd numbers in  [4, 7, 9]\n",
      "[7, 9]\n"
     ]
    }
   ],
   "source": [
    "##Q8. Write a python programme to print odd numbers in a lists?\n",
    "def odd(list):\n",
    "    new_list=[]\n",
    "    for i in list:\n",
    "        if i%2!=0:               \n",
    "            new_list.append(i)\n",
    "    return new_list\n",
    "\n",
    "\n",
    "li=[]\n",
    "n=int(input(\"Enter size of list \"))\n",
    "for i in range(0,n):\n",
    "    e=int(input(\"Enter element of list \"))\n",
    "    li.append(e)\n",
    "\n",
    "print(\"Odd numbers in \",li)\n",
    "print(odd(li))"
   ]
  },
  {
   "cell_type": "code",
   "execution_count": 12,
   "id": "c6a2fdba-6b1c-48a5-a4c0-74b82bbf1b0e",
   "metadata": {},
   "outputs": [],
   "source": [
    "##Q9. Write a python programme to remove empty list from lists?\n"
   ]
  },
  {
   "cell_type": "code",
   "execution_count": 16,
   "id": "fc763cfb-6d36-489d-b031-d9b3a8f4be4b",
   "metadata": {},
   "outputs": [
    {
     "name": "stdin",
     "output_type": "stream",
     "text": [
      "Enter size of list  5\n",
      "Enter element of list  3\n",
      "Enter element of list  6\n",
      "Enter element of list  8\n",
      "Enter element of list  9\n",
      "Enter element of list  1\n"
     ]
    },
    {
     "name": "stdout",
     "output_type": "stream",
     "text": [
      "Original list:  [3, 6, 8, 9, 1]\n",
      "After cloning:  [3, 6, 8, 9, 1]\n"
     ]
    }
   ],
   "source": [
    "##Q10. Write a python programme to cloning or copying a lists?\n",
    "li=[]\n",
    "n=int(input(\"Enter size of list \"))\n",
    "for i in range(0,n):\n",
    "    e=int(input(\"Enter element of list \"))\n",
    "    li.append(e)\n",
    "print(\"Original list: \",li)\n",
    "\n",
    "\n",
    "list_copy = li[:]\n",
    "print(\"After cloning: \",list_copy)"
   ]
  },
  {
   "cell_type": "code",
   "execution_count": null,
   "id": "19ee0e95-2672-4c13-b2a0-ad6db7b4ef36",
   "metadata": {},
   "outputs": [],
   "source": [
    "##Q11. Write a python programme to find count occurence of an element in a list?\n",
    "def count_occurrence(list, n):\n",
    "    \n",
    "\n",
    "    count=0\n",
    "    for i in list:\n",
    "        if(i==n):\n",
    "          \n",
    "            count=count+1\n",
    "    return count\n",
    "\n",
    "\n",
    "li=[]\n",
    "n=int(input(\"Enter size of list \"))\n",
    "for i in range(0,n):\n",
    "    e=int(input(\"Enter element of list \"))\n",
    "    li.append(e)\n",
    "print(\"Original list: \",li)\n",
    "\n",
    "x=int(input(\"Enter element to be checked list: \"))\n",
    "\n",
    "\n",
    "print(x,\" has occurred \",count_occurrence(li, x),\"times\")"
   ]
  },
  {
   "cell_type": "code",
   "execution_count": null,
   "id": "df223bc4-4081-4c44-8b60-ae2a7fac6386",
   "metadata": {},
   "outputs": [],
   "source": []
  },
  {
   "cell_type": "code",
   "execution_count": null,
   "id": "4d53f5db-d205-4de4-99bc-4539f3670616",
   "metadata": {},
   "outputs": [],
   "source": []
  },
  {
   "cell_type": "code",
   "execution_count": null,
   "id": "9a84a19c-99f2-4607-903c-e77d18041aec",
   "metadata": {},
   "outputs": [],
   "source": []
  }
 ],
 "metadata": {
  "kernelspec": {
   "display_name": "Python 3 (ipykernel)",
   "language": "python",
   "name": "python3"
  },
  "language_info": {
   "codemirror_mode": {
    "name": "ipython",
    "version": 3
   },
   "file_extension": ".py",
   "mimetype": "text/x-python",
   "name": "python",
   "nbconvert_exporter": "python",
   "pygments_lexer": "ipython3",
   "version": "3.10.6"
  }
 },
 "nbformat": 4,
 "nbformat_minor": 5
}
