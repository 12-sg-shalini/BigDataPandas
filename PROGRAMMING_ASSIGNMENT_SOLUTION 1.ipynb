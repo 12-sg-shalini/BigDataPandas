{
 "cells": [
  {
   "cell_type": "code",
   "execution_count": 3,
   "id": "64da3bce-8487-48fe-9456-337d654d9878",
   "metadata": {},
   "outputs": [
    {
     "name": "stdout",
     "output_type": "stream",
     "text": [
      "Hello Python\n"
     ]
    }
   ],
   "source": [
    "#Q1. Write the python programme to print \"Hello Python\"?\n",
    "print(\"Hello Python\")"
   ]
  },
  {
   "cell_type": "code",
   "execution_count": 5,
   "id": "f0632de3-1bbf-4b66-a395-eeea56184eba",
   "metadata": {},
   "outputs": [
    {
     "name": "stdout",
     "output_type": "stream",
     "text": [
      "8\n",
      "0.3333333333333333\n"
     ]
    }
   ],
   "source": [
    "#Q2. Write a Python programme to do arithmetical operation addition and division?\n",
    "a=2\n",
    "b=6\n",
    "## addition\n",
    "add = a+b\n",
    "## division\n",
    "div = a/b\n",
    "print(add)\n",
    "print(div)"
   ]
  },
  {
   "cell_type": "code",
   "execution_count": 7,
   "id": "fba24e77-ad98-41cb-9faa-f32a475def26",
   "metadata": {},
   "outputs": [
    {
     "name": "stdin",
     "output_type": "stream",
     "text": [
      "Enter the height of triangle :  110\n",
      "Enter the base of triangle :  20\n"
     ]
    },
    {
     "name": "stdout",
     "output_type": "stream",
     "text": [
      "Area of triangle is 1100.0\n"
     ]
    }
   ],
   "source": [
    "## Q3. Write a Python Programme to find the area of triangle?\n",
    "height =int(input(\"Enter the height of triangle : \"))\n",
    "base = int(input(\"Enter the base of triangle : \"))\n",
    "\n",
    "area = height*base/2\n",
    "print(\"Area of triangle is\",area)"
   ]
  },
  {
   "cell_type": "code",
   "execution_count": 8,
   "id": "0bb23546-eaa3-415c-bf29-bd5f9049c802",
   "metadata": {},
   "outputs": [
    {
     "name": "stdin",
     "output_type": "stream",
     "text": [
      "Enter first number :  2888\n",
      "Enter second number :  388\n"
     ]
    },
    {
     "name": "stdout",
     "output_type": "stream",
     "text": [
      "Before swap:\n",
      "var1 = 2888 and var2 = 388\n",
      "After swap:\n",
      "var1 = 388 and var2 = 2888\n"
     ]
    }
   ],
   "source": [
    "##Q4. Write a python programme to swap two variable?\n",
    "var1 = int(input(\"Enter first number : \"))\n",
    "var2 = int(input(\"Enter second number : \"))\n",
    "print(\"Before swap:\\nvar1 = {} and var2 = {}\". format(var1,var2))\n",
    "temp = var1\n",
    "var1 = var2\n",
    "var2 = temp\n",
    "print(\"After swap:\\nvar1 = {} and var2 = {}\".format(var1,var2))"
   ]
  },
  {
   "cell_type": "code",
   "execution_count": 10,
   "id": "1e4c0b27-da67-4fe9-af15-a1f6a698d8a2",
   "metadata": {},
   "outputs": [
    {
     "name": "stdout",
     "output_type": "stream",
     "text": [
      "0.5503215369207757\n",
      "792\n"
     ]
    }
   ],
   "source": [
    "##Q5. Write a python programme to generate a random number?\n",
    "import random\n",
    "print(random.random())\n",
    "print(random.randint(8,10000))"
   ]
  },
  {
   "cell_type": "code",
   "execution_count": null,
   "id": "99e7b662-a942-4f2f-a78e-9eda8aa2ad49",
   "metadata": {},
   "outputs": [],
   "source": []
  }
 ],
 "metadata": {
  "kernelspec": {
   "display_name": "Python 3 (ipykernel)",
   "language": "python",
   "name": "python3"
  },
  "language_info": {
   "codemirror_mode": {
    "name": "ipython",
    "version": 3
   },
   "file_extension": ".py",
   "mimetype": "text/x-python",
   "name": "python",
   "nbconvert_exporter": "python",
   "pygments_lexer": "ipython3",
   "version": "3.10.6"
  }
 },
 "nbformat": 4,
 "nbformat_minor": 5
}
