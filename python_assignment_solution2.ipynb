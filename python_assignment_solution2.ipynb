{
 "cells": [
  {
   "cell_type": "code",
   "execution_count": 4,
   "id": "4799b95a-a980-4a6b-ae8b-c90482477054",
   "metadata": {},
   "outputs": [
    {
     "name": "stdin",
     "output_type": "stream",
     "text": [
      "Enter some number in kilometers to convert :  65\n"
     ]
    },
    {
     "name": "stdout",
     "output_type": "stream",
     "text": [
      "After converting kilometers65 in miles the value is :40.38922788223744 \n"
     ]
    }
   ],
   "source": [
    "##Q1. Write a python programme to convert kilometers in miles?\n",
    "km = int(input(\"Enter some number in kilometers to convert : \"))\n",
    "miles = km/1.60934\n",
    "print(\"After converting kilometers{} in miles the value is :{} \".format(km,miles))"
   ]
  },
  {
   "cell_type": "code",
   "execution_count": 5,
   "id": "7830ad1a-d74f-4693-92fe-838be9e0d8cc",
   "metadata": {},
   "outputs": [
    {
     "name": "stdin",
     "output_type": "stream",
     "text": [
      "Enter some number in celsius to convert :  3\n"
     ]
    },
    {
     "name": "stdout",
     "output_type": "stream",
     "text": [
      "For celsius = 3 equivalent fahreneit = 37.4\n"
     ]
    }
   ],
   "source": [
    "##Q2. Write a python programme to celsius to fahrenheit?\n",
    "c = int(input(\"Enter some number in celsius to convert : \"))\n",
    "f = (9*c/5)+32\n",
    "print(\"For celsius = {} equivalent fahreneit = {}\".format(c,f))"
   ]
  },
  {
   "cell_type": "code",
   "execution_count": 8,
   "id": "1d95ea6e-cf91-4ebc-82bc-d0749d7cfc34",
   "metadata": {},
   "outputs": [
    {
     "name": "stdin",
     "output_type": "stream",
     "text": [
      "Enter the year which calender you want to see :  2023\n",
      "Enter the month you want to see :  11\n"
     ]
    },
    {
     "name": "stdout",
     "output_type": "stream",
     "text": [
      "   November 2023\n",
      "Mo Tu We Th Fr Sa Su\n",
      "       1  2  3  4  5\n",
      " 6  7  8  9 10 11 12\n",
      "13 14 15 16 17 18 19\n",
      "20 21 22 23 24 25 26\n",
      "27 28 29 30\n",
      "\n"
     ]
    }
   ],
   "source": [
    "##Q3. Write a python programme to display calender?\n",
    "import calendar\n",
    "year = int(input(\"Enter the year which calender you want to see : \"))\n",
    "month = int(input(\"Enter the month you want to see : \"))\n",
    "print(calendar.month(year,month))"
   ]
  },
  {
   "cell_type": "code",
   "execution_count": null,
   "id": "154a2e3e-8ce5-4a70-9bfb-28786c184b9c",
   "metadata": {},
   "outputs": [],
   "source": [
    "## Q4. Write a python programme to solve quadratic equation?"
   ]
  },
  {
   "cell_type": "code",
   "execution_count": null,
   "id": "a2a70e64-6d77-45de-aa67-f4539b0342f6",
   "metadata": {},
   "outputs": [],
   "source": [
    "##Q5 Write a python programme to swap two variable without temp variable?\n",
    "var1 = int(input(\"Enter first number : \"))\n",
    "var2 = int(input(\"enter second number : \"))\n",
    "print(\"bEFORE Swapping the position :\\nvar1 = {} and var2 = {}\".format(var1,var2))\n",
    "var2 = var1+var2\n",
    "var1 = var2-var1\n",
    "var2 = var2-var1\n",
    "print(\"After swapping the position :\\nvar1 = {} and var2 \")"
   ]
  },
  {
   "cell_type": "code",
   "execution_count": null,
   "id": "2158a643-87a6-4c3d-9196-58993d99ca0e",
   "metadata": {},
   "outputs": [],
   "source": []
  }
 ],
 "metadata": {
  "kernelspec": {
   "display_name": "Python 3 (ipykernel)",
   "language": "python",
   "name": "python3"
  },
  "language_info": {
   "codemirror_mode": {
    "name": "ipython",
    "version": 3
   },
   "file_extension": ".py",
   "mimetype": "text/x-python",
   "name": "python",
   "nbconvert_exporter": "python",
   "pygments_lexer": "ipython3",
   "version": "3.10.6"
  }
 },
 "nbformat": 4,
 "nbformat_minor": 5
}
