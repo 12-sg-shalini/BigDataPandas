{
 "cells": [
  {
   "cell_type": "code",
   "execution_count": 1,
   "id": "255f4702-5d41-417d-bdfc-ef241b175db3",
   "metadata": {},
   "outputs": [
    {
     "name": "stdin",
     "output_type": "stream",
     "text": [
      "Enter word :  outstanding\n"
     ]
    },
    {
     "name": "stdout",
     "output_type": "stream",
     "text": [
      "ou... ou... outstanding?\n"
     ]
    }
   ],
   "source": [
    "### 1. Write a function that stutters a word as if someone is struggling to read it. The first two letters are repeated \n",
    "###twice with an ellipsis ... and space after each, and then the word is pronounced with a question mark ?. Examples stutter('incredible') ➞ 'in... in... incredible?' stutter('enthusiastic') ➞ 'en... en... enthusiastic?' \n",
    "###stutter('outstanding') ➞ 'ou... ou... outstanding?'\n",
    "\n",
    "### Hint :- Assume all input is in lower case and at least two characters long.\n",
    "\n",
    "def stutter(word):\n",
    "    return (2*(word[:2]+'... '))+word+'?'\n",
    "word = input('Enter word : ')\n",
    "print(stutter(word))"
   ]
  },
  {
   "cell_type": "code",
   "execution_count": 3,
   "id": "c9c5a0de-3461-4aa4-8482-f786020bfe69",
   "metadata": {},
   "outputs": [
    {
     "name": "stdin",
     "output_type": "stream",
     "text": [
      "Enter the Radian :  20\n"
     ]
    },
    {
     "name": "stdout",
     "output_type": "stream",
     "text": [
      "degree = 1145.9165581759555\n"
     ]
    }
   ],
   "source": [
    "###Create a function that takes an angle in radians and returns the corresponding angle in degrees rounded to one decimal place.\n",
    "###Examples\n",
    "\"\"\"\n",
    "radians_to_degrees(1) ➞ 57.3\n",
    "radians_to_degrees(20) ➞ 1145.9\n",
    "radians_to_degrees(50) ➞ 2864.8\n",
    "\"\"\"\n",
    "def radians_to_degrees(radian):\n",
    "    pi = 3.14159\n",
    "    #formula\n",
    "    degree = radian * (180/pi)\n",
    "    return degree\n",
    "radian = float(input('Enter the Radian : '))\n",
    "print(\"degree =\",(radians_to_degrees(radian)))"
   ]
  },
  {
   "cell_type": "code",
   "execution_count": 4,
   "id": "cb42be77-731f-462f-b453-04dbb76b8427",
   "metadata": {},
   "outputs": [
    {
     "name": "stdin",
     "output_type": "stream",
     "text": [
      "Enter a number :  33\n"
     ]
    },
    {
     "name": "stdout",
     "output_type": "stream",
     "text": [
      "33 is Curzon Number\n"
     ]
    }
   ],
   "source": [
    "### 3. In this challenge, establish if a given integer num is a Curzon number. If 1 plus 2 elevated to num is exactly \n",
    "###divisible by 1 plus 2 multiplied by num, then num is a Curzon number. Given a non-negative integer num, implement a \n",
    "###function that returns True if num is a Curzon number, or False otherwise.\n",
    "\n",
    "def checkIfCurzonNumber(n):\n",
    " \n",
    "    power, product = 0, 0\n",
    " \n",
    "\n",
    "    power = pow(2, n) + 1\n",
    " \n",
    "  \n",
    "    product = 2 * n + 1\n",
    " \n",
    "    \n",
    "    if (power % product == 0):\n",
    "        print(n, \"is Curzon Number\")\n",
    "    else:\n",
    "        print(n, \"is not a Curzon Number\")\n",
    "        \n",
    "n = int(input('Enter a number : '))\n",
    "checkIfCurzonNumber(n)"
   ]
  },
  {
   "cell_type": "code",
   "execution_count": null,
   "id": "0397178b-a24f-4c6e-93fb-9e7852ff0d4f",
   "metadata": {},
   "outputs": [],
   "source": [
    "###4.Given the side length x find the area of a hexagon.\n",
    "\"\"\"\n",
    "Examples\n",
    "area_of_hexagon(1) ➞ 2.6\n",
    "area_of_hexagon(2) ➞ 10.4\n",
    "area_of_hexagon(3) ➞ 23.4\n",
    "\"\"\"\n",
    "import math\n",
    "def area_of_hexagon(s):     \n",
    "    return ((3 * math.sqrt(3) * (sideLength * sideLength)) / 2);\n",
    "     \n",
    "\n",
    "sideLength = float(input('Enter the length : '))\n",
    "\n",
    "print(\"Area:\",\"{0:.4f}\".format(area_of_hexagon(sideLength)))\n"
   ]
  },
  {
   "cell_type": "code",
   "execution_count": null,
   "id": "e2838f77-17c1-4e9b-89e8-1c6fc01f9212",
   "metadata": {},
   "outputs": [],
   "source": []
  }
 ],
 "metadata": {
  "kernelspec": {
   "display_name": "Python 3 (ipykernel)",
   "language": "python",
   "name": "python3"
  },
  "language_info": {
   "codemirror_mode": {
    "name": "ipython",
    "version": 3
   },
   "file_extension": ".py",
   "mimetype": "text/x-python",
   "name": "python",
   "nbconvert_exporter": "python",
   "pygments_lexer": "ipython3",
   "version": "3.10.6"
  }
 },
 "nbformat": 4,
 "nbformat_minor": 5
}
