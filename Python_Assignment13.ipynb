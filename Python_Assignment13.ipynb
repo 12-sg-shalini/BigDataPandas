{
 "cells": [
  {
   "cell_type": "code",
   "execution_count": 5,
   "id": "f2c63d7e-648d-4b99-ae6d-52c33ecf006e",
   "metadata": {},
   "outputs": [
    {
     "name": "stdout",
     "output_type": "stream",
     "text": [
      "Input Values\n"
     ]
    },
    {
     "name": "stdin",
     "output_type": "stream",
     "text": [
      " 65\n"
     ]
    },
    {
     "name": "stdout",
     "output_type": "stream",
     "text": [
      "The followings output are\n",
      "15\n"
     ]
    }
   ],
   "source": [
    "\n",
    "### 1. Write a program that calculates and prints the value according to the given formula:\n",
    "\"\"\"Q = Square root of [(2 C D)/H]\n",
    "\n",
    "Following are the fixed values of C and H:\n",
    "\n",
    "C is 50. H is 30.\n",
    "\n",
    "D is the variable whose values should be input to your program in a comma-separated sequence.\n",
    "\n",
    "Example\n",
    "\n",
    "Let us assume the following comma separated input sequence is given to the program:\n",
    "\n",
    "100,150,180\n",
    "\n",
    "The output of the program should be:\n",
    "\n",
    "18,22,24\n",
    "\"\"\"\n",
    "#Ans-1 \n",
    "import math\n",
    "\n",
    "c = 50\n",
    "\n",
    "h = 30\n",
    "\n",
    "\n",
    "value = []\n",
    "\n",
    "print(\"Input Values\")\n",
    "\n",
    "items = [x for x in input().split(',')]\n",
    "\n",
    "for d in items:\n",
    "\n",
    "    value.append(str(int(round(math.sqrt(2*c*float(d)/h)))))\n",
    "\n",
    "\n",
    "print(\"The followings output are\")\n",
    "\n",
    "print(','.join(value))"
   ]
  },
  {
   "cell_type": "code",
   "execution_count": 12,
   "id": "b12e4cdc-e82c-4dd5-9c4b-985575e497ed",
   "metadata": {},
   "outputs": [
    {
     "name": "stdin",
     "output_type": "stream",
     "text": [
      "Input number of rows:  3\n",
      "Input number of columns:  4\n"
     ]
    },
    {
     "name": "stdout",
     "output_type": "stream",
     "text": [
      "[[0, 0, 0, 0], [0, 1, 2, 3], [0, 2, 4, 6]]\n"
     ]
    }
   ],
   "source": [
    "### 2. Write a program which takes 2 digits, X,Y as input and generates a 2-dimensional array.\n",
    "#The element value in the i-th row and j-th column of the array should be i*j.\n",
    "#Ans-2\n",
    "row_num = int(input(\"Input number of rows: \"))\n",
    "col_num = int(input(\"Input number of columns: \"))\n",
    "multi_list = [[0 for col in range(col_num)] for row in range(row_num)]\n",
    "\n",
    "for row in range(row_num):\n",
    "    for col in range(col_num):\n",
    "        multi_list[row][col]= row*col\n",
    "\n",
    "print(multi_list)"
   ]
  },
  {
   "cell_type": "code",
   "execution_count": 14,
   "id": "cbe65eae-e00f-44ae-8790-41bc31ce1c1e",
   "metadata": {},
   "outputs": [
    {
     "name": "stdout",
     "output_type": "stream",
     "text": [
      "t h e   Q u i c k   b r o w n   f o x   j u m P s   o v e r   t h e   l a z Y   D o g\n"
     ]
    }
   ],
   "source": [
    "### 3. Write a program that accepts a comma separated\n",
    "#sequence of words as input and prints the words in a comma-separated sequence after sorting them alphabetically.\n",
    "\n",
    "def Func(S):\n",
    "  W = S.split(\" \")\n",
    "  for i in range(len(W)):\n",
    "        W[i]=W[i].lower() \n",
    "        S = sorted(W)\n",
    "print(' '.join(S))\n",
    " \n",
    "\n",
    "S = \"the Quick brown fox jumPs over the lazY Dog\"\n",
    " \n",
    "\n",
    "Func(S)"
   ]
  },
  {
   "cell_type": "code",
   "execution_count": 15,
   "id": "b3efe0c6-a414-4635-8b86-6aa1671d4934",
   "metadata": {},
   "outputs": [
    {
     "name": "stdout",
     "output_type": "stream",
     "text": [
      "The original string is : ge3eks4geeks\n",
      "The space added string : ge 3 eks 4 geeks\n"
     ]
    }
   ],
   "source": [
    "### 4. Write a program that accepts a sequence of whitespace \n",
    "#separated words as input and prints the words after removing all duplicate words and sorting them alphanumerically.\n",
    "\n",
    "test_str = 'ge3eks4geeks'\n",
    "\n",
    "\n",
    "print(\"The original string is : \" + str(test_str))\n",
    "num=\"0123456789\"\n",
    "for i in test_str:\n",
    "    if i in num:\n",
    "        test_str=test_str.replace(i,\" \"+i+\" \")\n",
    "res=test_str\n",
    "\n",
    "print(\"The space added string : \" + str(res))\n"
   ]
  },
  {
   "cell_type": "code",
   "execution_count": 1,
   "id": "3ba934e1-a2b9-467b-81ee-7bf0f8f64b75",
   "metadata": {},
   "outputs": [
    {
     "name": "stdin",
     "output_type": "stream",
     "text": [
      "Input a string seeksforseeks\n"
     ]
    },
    {
     "name": "stdout",
     "output_type": "stream",
     "text": [
      "Letters 13\n",
      "Digits 0\n"
     ]
    }
   ],
   "source": [
    " ### 5. Write a program that accepts a sentence and calculate the number of letters and digits.\n",
    "\n",
    "s = input(\"Input a string\")\n",
    "d=l=0\n",
    "for c in s:\n",
    "    if c.isdigit():\n",
    "        d=d+1\n",
    "    elif c.isalpha():\n",
    "        l=l+1\n",
    "    else:\n",
    "        pass\n",
    "print(\"Letters\", l)\n",
    "print(\"Digits\", d)\n"
   ]
  },
  {
   "cell_type": "code",
   "execution_count": 2,
   "id": "830495be-002e-4dbf-97ba-ed02f9a99c5e",
   "metadata": {},
   "outputs": [
    {
     "name": "stdin",
     "output_type": "stream",
     "text": [
      "Input your password passwordW3r@100a     \n"
     ]
    },
    {
     "name": "stdout",
     "output_type": "stream",
     "text": [
      "Not a Valid Password\n"
     ]
    }
   ],
   "source": [
    "### 6. A website requires \n",
    "###the users to input username and password to register. Write a program to check the validity of password input by users\n",
    "import re\n",
    "p= input(\"Input your password\")\n",
    "x = True\n",
    "while x:  \n",
    "    if (len(p)<6 or len(p)>12):\n",
    "        break\n",
    "    elif not re.search(\"[a-z]\",p):\n",
    "        break\n",
    "    elif not re.search(\"[0-9]\",p):\n",
    "        break\n",
    "    elif not re.search(\"[A-Z]\",p):\n",
    "        break\n",
    "    elif not re.search(\"[$#@]\",p):\n",
    "        break\n",
    "    elif re.search(\"\\s\",p):\n",
    "        break\n",
    "    else:\n",
    "        print(\"Valid Password\")\n",
    "        x=False\n",
    "        break\n",
    "\n",
    "if x:\n",
    "    print(\"Not a Valid Password\")\n"
   ]
  },
  {
   "cell_type": "code",
   "execution_count": null,
   "id": "53792dd1-92a8-4296-9cb7-71d717cdb368",
   "metadata": {},
   "outputs": [],
   "source": []
  }
 ],
 "metadata": {
  "kernelspec": {
   "display_name": "Python 3 (ipykernel)",
   "language": "python",
   "name": "python3"
  },
  "language_info": {
   "codemirror_mode": {
    "name": "ipython",
    "version": 3
   },
   "file_extension": ".py",
   "mimetype": "text/x-python",
   "name": "python",
   "nbconvert_exporter": "python",
   "pygments_lexer": "ipython3",
   "version": "3.10.6"
  }
 },
 "nbformat": 4,
 "nbformat_minor": 5
}
