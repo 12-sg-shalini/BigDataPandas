{
 "cells": [
  {
   "cell_type": "code",
   "execution_count": 1,
   "id": "18cc26c9-bb25-4835-b256-7721d9e32aa7",
   "metadata": {},
   "outputs": [
    {
     "name": "stdout",
     "output_type": "stream",
     "text": [
      "Python\n",
      "good\n"
     ]
    }
   ],
   "source": [
    "##Q1. Write a python Program To Find words that are greater than the given length kk\n",
    "def word_k(k, s):    \n",
    "    \n",
    "    word = s.split(\" \")\n",
    "    \n",
    "    for x in word:\n",
    "        \n",
    "        if len(x)>k:\n",
    "          \n",
    "          print(x)\n",
    "k = 3\n",
    "s =\"Python is good\"\n",
    "word_k(k, s)"
   ]
  },
  {
   "cell_type": "code",
   "execution_count": null,
   "id": "0b40c3ab-67ee-4a0f-a925-26912a2902a5",
   "metadata": {},
   "outputs": [],
   "source": [
    "##Q2. Write a python programme to remove i-th characterfrom string?\n"
   ]
  },
  {
   "cell_type": "code",
   "execution_count": 2,
   "id": "36644082-70d9-4a05-b292-931548a56dd1",
   "metadata": {},
   "outputs": [
    {
     "name": "stdout",
     "output_type": "stream",
     "text": [
      "After Splitting:  ['My', 'Name', 'is', 'Lakshmi']\n",
      "After joining:  My-Name-is-Lakshmi\n"
     ]
    }
   ],
   "source": [
    "##Q3. Write a python programme to split and join string?\n",
    "\n",
    "def split_string(string):\n",
    "    \n",
    "    list_string = string.split(' ')\n",
    "    return list_string\n",
    "\n",
    "def join_string(list_string):\n",
    "    \n",
    "    string = '-'.join(list_string)\n",
    "    return string\n",
    "\n",
    "string = 'My Name is Lakshmi'\n",
    "list_string = split_string(string)\n",
    "print(\"After Splitting: \",list_string)\n",
    "\n",
    "\n",
    "res_string = join_string(list_string)\n",
    "print(\"After joining: \",res_string)"
   ]
  },
  {
   "cell_type": "code",
   "execution_count": 3,
   "id": "5c12bb45-bd7c-4871-a946-c2bc16872488",
   "metadata": {},
   "outputs": [
    {
     "name": "stdout",
     "output_type": "stream",
     "text": [
      "Binary String\n",
      "Non Binary String\n"
     ]
    }
   ],
   "source": [
    "##Q4. Write a python programme to check if the given string is binary string or not?\n",
    "def check(string) :\n",
    "    b = set(string)\n",
    "    s = {'0', '1'}\n",
    "    if s == b or b == {'0'} or b == {'1'}:\n",
    "        print(\"Binary String\")\n",
    "    else :\n",
    "        print(\"Non Binary String\")\n",
    "  \n",
    "s1= \"00110101\"\n",
    "\n",
    "check(s1)\n",
    "s2 = \"1010100200111\"\n",
    "check(s2)"
   ]
  },
  {
   "cell_type": "code",
   "execution_count": 5,
   "id": "7c132344-a4d7-42d8-9595-a683284dc5f4",
   "metadata": {},
   "outputs": [
    {
     "name": "stdout",
     "output_type": "stream",
     "text": [
      "['StudyPoint', 'Welcome', 'to', 'Study', 'Point']\n"
     ]
    }
   ],
   "source": [
    "##Q5. Write a python programme to find uncommon words from two string?\n",
    "def uncommon_words(s1, s2):\n",
    "    count = {}\n",
    "    for word in s1.split():\n",
    "        count[word] = count.get(word, 0) + 1\n",
    "\n",
    "    for word in s2.split():\n",
    "        count[word] = count.get(word, 0) + 1\n",
    "    \n",
    "    return [word for word in count if count[word] == 1]\n",
    "\n",
    "s1=\"StudyPoint\"\n",
    "s2=\"Welcome to Study Point\"\n",
    "  \n",
    "\n",
    "print(uncommon_words(s1, s2))"
   ]
  },
  {
   "cell_type": "code",
   "execution_count": 6,
   "id": "8238c519-3821-4673-8efa-b38464270faa",
   "metadata": {},
   "outputs": [
    {
     "name": "stdout",
     "output_type": "stream",
     "text": [
      "abcfgbsca\n",
      "After removing duplicates:  abcfgs\n"
     ]
    }
   ],
   "source": [
    "##Q6. WRite a python programme to find all duplicate character from string? \n",
    "from collections import OrderedDict\n",
    "\n",
    "def remove_duplicate(s): \n",
    "    return \"\".join(OrderedDict.fromkeys(s))\n",
    "\n",
    "\n",
    "s=\"abcfgbsca\"\n",
    "print(s)\n",
    "print(\"After removing duplicates: \",remove_duplicate(s))"
   ]
  },
  {
   "cell_type": "code",
   "execution_count": null,
   "id": "fd279ae7-3387-4189-8aee-d0cb0ddf037a",
   "metadata": {},
   "outputs": [],
   "source": [
    "##Q7. Write a python programme to check if a string is having any special characters?\n"
   ]
  },
  {
   "cell_type": "code",
   "execution_count": null,
   "id": "ba8bc292-942a-4eea-bbed-48f31977b771",
   "metadata": {},
   "outputs": [],
   "source": []
  }
 ],
 "metadata": {
  "kernelspec": {
   "display_name": "Python 3 (ipykernel)",
   "language": "python",
   "name": "python3"
  },
  "language_info": {
   "codemirror_mode": {
    "name": "ipython",
    "version": 3
   },
   "file_extension": ".py",
   "mimetype": "text/x-python",
   "name": "python",
   "nbconvert_exporter": "python",
   "pygments_lexer": "ipython3",
   "version": "3.10.6"
  }
 },
 "nbformat": 4,
 "nbformat_minor": 5
}
