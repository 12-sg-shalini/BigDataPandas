{
 "cells": [
  {
   "cell_type": "code",
   "execution_count": 1,
   "id": "c08410cc-03ce-48d2-ae8a-b732ef383b5a",
   "metadata": {},
   "outputs": [
    {
     "name": "stdout",
     "output_type": "stream",
     "text": [
      "The original dictionary is :  {'A': [1, 3, 5, 4], 'B': [4, 6, 8, 10], 'C': [6, 12, 4, 8], 'D': [5, 7, 2]}\n",
      "The unique values list is :  [1, 2, 3, 4, 5, 6, 7, 8, 10, 12]\n"
     ]
    }
   ],
   "source": [
    "##Q1. Write a python programme to extract Unique values dictionary values?\n",
    "\n",
    "dict1 = {'A' : [1, 3, 5, 4],\n",
    "             'B' : [4, 6, 8, 10],\n",
    "             'C' : [6, 12, 4 ,8],\n",
    "             'D' : [5, 7, 2]}\n",
    "\n",
    "print(\"The original dictionary is : \" ,dict1)\n",
    "  \n",
    "\n",
    "res = list(sorted({ele for val in dict1.values() for ele in val}))\n",
    "   \n",
    "print(\"The unique values list is : \" , res) "
   ]
  },
  {
   "cell_type": "code",
   "execution_count": 2,
   "id": "b62cf699-2a15-4fb8-a78e-324cbb341d73",
   "metadata": {},
   "outputs": [
    {
     "name": "stdout",
     "output_type": "stream",
     "text": [
      "Dictionary:  {'x': 455, 'y': 223, 'z': 300, 'p': 908}\n",
      "sum:  1886\n"
     ]
    }
   ],
   "source": [
    "##Q2. Write a python programme to find sum of all items in dictitionery\n",
    "dic={ 'x':455, 'y':223, 'z':300, 'p':908 }\n",
    "\n",
    "print(\"Dictionary: \", dic)\n",
    "\n",
    "print(\"sum: \",sum(dic.values()))"
   ]
  },
  {
   "cell_type": "code",
   "execution_count": null,
   "id": "103c647d-13c2-4836-ab13-a508ed47ca63",
   "metadata": {},
   "outputs": [],
   "source": [
    "##Q3. Python programme to Convert key-values list to flat dictionary\n",
    "from itertools import product\n",
    "test_dict = {'month' : [1, 2, 3],\n",
    "             'name' : ['Jan', 'Feb', 'March']}\n",
    " \n",
    "print(\"The original dictionary is : \" + str(test_dict))\n",
    "res = dict(zip(test_dict['month'], test_dict['name']))\n",
    "print(\"Flattened dictionary : \" + str(res))"
   ]
  },
  {
   "cell_type": "code",
   "execution_count": 7,
   "id": "1a504f18-9fa7-4b0d-b009-17f0fb4e989f",
   "metadata": {},
   "outputs": [
    {
     "name": "stdout",
     "output_type": "stream",
     "text": [
      "MERGED: \n",
      "{'x': 4, 'y': 8, 'z': 5, 1: 8, 2: 6}\n"
     ]
    }
   ],
   "source": [
    "##Q4 Write a python programme to Merging Two Dictitionary?\n",
    "dic1= {'x': 3, 'y' : 8, 'z': 5 }\n",
    "dic2= {1: 8, 'x': 4, 2: 6}\n",
    "\n",
    "merge_dic= {**dic1,**dic2}\n",
    "\n",
    "print(\"MERGED: \")\n",
    "print(merge_dic)"
   ]
  },
  {
   "cell_type": "code",
   "execution_count": null,
   "id": "e09786b3-db2d-410e-9033-b8add793ac10",
   "metadata": {},
   "outputs": [],
   "source": [
    "##Q5. Write a python programme to insertion at the begining in OrderedDict? \n",
    "from collections import OrderedDict  \n",
    "dic1 = OrderedDict([('A', '100'), ('B', '200'), ('C', '300')])\n",
    "\n",
    "dic1.update({\"D\": '400'})\n",
    "print(dic1)\n",
    "\n",
    "dic1.move_to_end(\"D\", last=False)\n",
    "  \n",
    "\n",
    "print (\"Resultant Dictionary :\")\n",
    "print(dic1)"
   ]
  },
  {
   "cell_type": "code",
   "execution_count": null,
   "id": "f81b1722-db60-4f5e-93c1-94142cc998d4",
   "metadata": {},
   "outputs": [],
   "source": [
    "##Q6. Write a python programme to check order of character in a string using OrderedDict()?"
   ]
  },
  {
   "cell_type": "code",
   "execution_count": null,
   "id": "3fe01912-398c-4d4c-84b1-035a62942090",
   "metadata": {},
   "outputs": [],
   "source": [
    "##Q7. Write a Python Program to Sort Python Dictionaries by Key or Value?\n",
    "key_value={}\n",
    "\n",
    "key_value[5] = 10      \n",
    "key_value[3] = 8\n",
    "key_value[6] = 77\n",
    "key_value[4] = 23\n",
    "key_value[2] = 9     \n",
    "key_value[1] = 43\n",
    " \n",
    "print(\"sorting on the basis of values\")\n",
    "\n",
    "print(sorted(key_value.items(), key=lambda keyval: (keyval[1], keyval[0])))"
   ]
  },
  {
   "cell_type": "code",
   "execution_count": null,
   "id": "34cfc081-6753-4f39-94e4-319997ff25a4",
   "metadata": {},
   "outputs": [],
   "source": []
  }
 ],
 "metadata": {
  "kernelspec": {
   "display_name": "Python 3 (ipykernel)",
   "language": "python",
   "name": "python3"
  },
  "language_info": {
   "codemirror_mode": {
    "name": "ipython",
    "version": 3
   },
   "file_extension": ".py",
   "mimetype": "text/x-python",
   "name": "python",
   "nbconvert_exporter": "python",
   "pygments_lexer": "ipython3",
   "version": "3.10.6"
  }
 },
 "nbformat": 4,
 "nbformat_minor": 5
}
