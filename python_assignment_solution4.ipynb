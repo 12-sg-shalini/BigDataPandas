{
 "cells": [
  {
   "cell_type": "code",
   "execution_count": 6,
   "id": "68efa67d-e676-4b02-96fe-8ea80bd5bcb3",
   "metadata": {},
   "outputs": [
    {
     "name": "stdin",
     "output_type": "stream",
     "text": [
      "Enter a number to find factorial : 5\n"
     ]
    },
    {
     "name": "stdout",
     "output_type": "stream",
     "text": [
      "factorial of 5  is 1\n",
      "factorial of 5  is 2\n",
      "factorial of 5  is 6\n",
      "factorial of 5  is 24\n",
      "factorial of 5  is 120\n"
     ]
    }
   ],
   "source": [
    "##Q1. Write a python programme to find factorial of a number?\n",
    "num = int(input(\"Enter a number to find factorial :\"))\n",
    "factorial = 1\n",
    "if (num<0):\n",
    "    print(\"Sorry,factorial doesnot exists for negative number\")\n",
    "elif (num==0):\n",
    "    print(\"factorial of 0 is 1\")\n",
    "else:\n",
    "    for i in range(1,num+1):\n",
    "        factorial = factorial*i\n",
    "        print(\"factorial of\", num,\" is\",factorial)"
   ]
  },
  {
   "cell_type": "code",
   "execution_count": 7,
   "id": "ec25cabe-69d5-42dd-8a2e-001148901f8c",
   "metadata": {},
   "outputs": [
    {
     "name": "stdin",
     "output_type": "stream",
     "text": [
      "Enter a number : 12\n"
     ]
    },
    {
     "name": "stdout",
     "output_type": "stream",
     "text": [
      "12*1=12\n",
      "12*2=24\n",
      "12*3=36\n",
      "12*4=48\n",
      "12*5=60\n",
      "12*6=72\n",
      "12*7=84\n",
      "12*8=96\n",
      "12*9=108\n",
      "12*10=120\n"
     ]
    }
   ],
   "source": [
    "##Q2. Write a python programme to diasplay multiplication table?\n",
    "num = int(input(\"Enter a number :\"))\n",
    "for i in range(1,11):\n",
    "    print(\"{}*{}={}\".format(num,i,num*i))"
   ]
  },
  {
   "cell_type": "code",
   "execution_count": 9,
   "id": "5677776b-0d10-4c79-9f20-8365a290dea8",
   "metadata": {},
   "outputs": [
    {
     "name": "stdin",
     "output_type": "stream",
     "text": [
      "How many terms?  10\n"
     ]
    },
    {
     "name": "stdout",
     "output_type": "stream",
     "text": [
      "fibonacci sequence :\n",
      "0\n",
      "1\n",
      "1\n",
      "2\n",
      "3\n",
      "5\n",
      "8\n",
      "13\n",
      "21\n",
      "34\n"
     ]
    }
   ],
   "source": [
    "##Q3. Write a python programme to print fibonacci sequence?\n",
    "nterms = int(input(\"How many terms? \"))\n",
    "n1,n2 = 0,1\n",
    "count = 0\n",
    "\n",
    "if (nterms<=0):\n",
    "    print(\"Please enter positive number\")\n",
    "elif (nterms==1):\n",
    "    print(\"fibonacci sequence upto\",nterms,\":\")\n",
    "    print(n1)\n",
    "else:\n",
    "    print(\"fibonacci sequence :\")\n",
    "    while count<nterms:\n",
    "        print(n1)\n",
    "        nth = n1+n2\n",
    "        n1 = n2\n",
    "        n2 =nth\n",
    "        count +=1\n",
    "        "
   ]
  },
  {
   "cell_type": "code",
   "execution_count": 1,
   "id": "9c55aca6-7c37-49c3-9b13-5fda3a92a7f2",
   "metadata": {},
   "outputs": [
    {
     "name": "stdin",
     "output_type": "stream",
     "text": [
      "Enter a number:  245\n"
     ]
    },
    {
     "name": "stdout",
     "output_type": "stream",
     "text": [
      "245 is not an Armstrong number\n"
     ]
    }
   ],
   "source": [
    "##Q4. Write a python programme to check if a number is armstrong num\n",
    "num = int(input(\"Enter a number: \"))\n",
    "sum = 0\n",
    "temp = num\n",
    "while temp > 0:\n",
    "    digit = temp % 10\n",
    "    sum += digit ** 3\n",
    "    temp //= 10\n",
    "\n",
    "if num == sum:\n",
    "    print(num,\"is an Armstrong number\")\n",
    "else:\n",
    "    print(num,\"is not an Armstrong number\")"
   ]
  },
  {
   "cell_type": "code",
   "execution_count": 16,
   "id": "9f9f5735-83cf-491a-9a44-9b2b4e83bae1",
   "metadata": {},
   "outputs": [],
   "source": [
    "##Q5 Write the python programme to find Armstrong in an interval?\n",
    "\n",
    "\n",
    "lower = 100\n",
    "upper = 2000\n",
    "\n",
    "for num in range(lower, upper + 1):\n",
    "\n",
    "   \n",
    "   order = len(str(num))\n",
    "    \n",
    "   \n",
    "   sum = 0\n",
    "\n",
    "    temp = num\n",
    "while temp > 0:\n",
    "    digit = temp % 10\n",
    "       sum += digit ** order\n",
    "        temp //= 10\n",
    "\n",
    "if num == sum:\n",
    "       print(num)\n",
    "\n",
    "\n",
    "\n",
    "\n",
    "\n",
    "\n",
    "\n",
    "\n",
    "\n",
    "\n",
    "\n"
   ]
  },
  {
   "cell_type": "code",
   "execution_count": 15,
   "id": "38a21a61-ab4a-4d3e-a718-d6b58c73368e",
   "metadata": {},
   "outputs": [
    {
     "name": "stdout",
     "output_type": "stream",
     "text": [
      "The sum is 136\n"
     ]
    }
   ],
   "source": [
    "##Q6. Write the python programme to find the sum of natural numbers?\n",
    "num = 16\n",
    "\n",
    "if num < 0:\n",
    "    print(\"Enter a positive number\")\n",
    "else:\n",
    "    sum = 0\n",
    "while(num > 0):\n",
    "    sum += num\n",
    "    num -= 1\n",
    "print(\"The sum is\", sum)"
   ]
  },
  {
   "cell_type": "code",
   "execution_count": null,
   "id": "180a3d01-f83a-4881-8e19-e300af9479e7",
   "metadata": {},
   "outputs": [],
   "source": []
  }
 ],
 "metadata": {
  "kernelspec": {
   "display_name": "Python 3 (ipykernel)",
   "language": "python",
   "name": "python3"
  },
  "language_info": {
   "codemirror_mode": {
    "name": "ipython",
    "version": 3
   },
   "file_extension": ".py",
   "mimetype": "text/x-python",
   "name": "python",
   "nbconvert_exporter": "python",
   "pygments_lexer": "ipython3",
   "version": "3.10.6"
  }
 },
 "nbformat": 4,
 "nbformat_minor": 5
}
