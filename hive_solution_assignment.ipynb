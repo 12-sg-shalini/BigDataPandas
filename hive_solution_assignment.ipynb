{
 "cells": [
  {
   "cell_type": "code",
   "execution_count": null,
   "id": "2c4fd6b5-c856-4c98-9c2f-06877269e258",
   "metadata": {},
   "outputs": [],
   "source": [
    "##3. Create a internal hive table \"sales_order_csv\" which will store csv data sales_order_csv .. make sure to skip header\n",
    "row while creating table.\n",
    "create table sales_order_data_csv_v1\n",
    "(\n",
    "ORDERNUMBER int,\n",
    "QUANTITYORDERED int,\n",
    "PRICEEACH float,\n",
    "ORDERLINENUMBER int,\n",
    "SALES float,\n",
    "STATUS string,\n",
    "QTR_ID int,\n",
    "MONTH_ID int,\n",
    "YEAR_ID int,\n",
    "PRODUCTLINE string,\n",
    "MSRP int,\n",
    "PRODUCTCODE string,\n",
    "PHONE string,\n",
    "CITY string,\n",
    "STATE string,\n",
    "POSTALCODE string,\n",
    "COUNTRY string,\n",
    "TERRITORY string,\n",
    "CONTACTLASTNAME string,\n",
    "CONTACTFIRSTNAME string,\n",
    "DEALSIZE string\n",
    ")\n",
    "row format delimited\n",
    "fields terminated by ','\n",
    "tblproperties(\"skip.header.line.count\"=\"1\")\n",
    "; "
   ]
  },
  {
   "cell_type": "code",
   "execution_count": null,
   "id": "57453a08-b5e1-4f6a-9128-d9ca41260be2",
   "metadata": {},
   "outputs": [],
   "source": [
    "##4.Load data from hdfs path into \"sales_order_csv\" \n",
    "load data local inpath 'file:///tmp/hive_class/sales_data_raw.csv' into table sales_data;"
   ]
  },
  {
   "cell_type": "code",
   "execution_count": null,
   "id": "d1bccd00-d5ee-43aa-ab44-b3bb617dd32f",
   "metadata": {},
   "outputs": [],
   "source": [
    "##5.Create an internal hive table which will store data in ORC format \"sales_order_orc\".. \n",
    "\n",
    "# load sales_order_data.csv data into above mentioned tables\n",
    "\n",
    "create table sales_order_data_orc\n",
    "(\n",
    "ORDERNUMBER int,\n",
    "QUANTITYORDERED int,\n",
    "PRICEEACH float,\n",
    "ORDERLINENUMBER int,\n",
    "SALES float,\n",
    "STATUS string,\n",
    "QTR_ID int,\n",
    "MONTH_ID int,\n",
    "YEAR_ID int,\n",
    "PRODUCTLINE string,\n",
    "MSRP int,\n",
    "PRODUCTCODE string,\n",
    "PHONE string,\n",
    "CITY string,\n",
    "STATE string,\n",
    "POSTALCODE string,\n",
    "COUNTRY string,\n",
    "TERRITORY string,\n",
    "CONTACTLASTNAME string,\n",
    "CONTACTFIRSTNAME string,\n",
    "DEALSIZE string\n",
    ")\n",
    "stored as orc;"
   ]
  },
  {
   "cell_type": "code",
   "execution_count": null,
   "id": "7551b23a-6682-4496-a644-abfbd8a4e5d4",
   "metadata": {},
   "outputs": [],
   "source": [
    "##  6. Load data from \"sales_order_csv\" into \"sales_order_orc\"\n",
    "insert overwrite table sales_order_data_orc select *;"
   ]
  },
  {
   "cell_type": "code",
   "execution_count": null,
   "id": "a7eee7d0-0cad-40c4-a1ed-9e83cee3e87d",
   "metadata": {},
   "outputs": [],
   "source": [
    "Perform below menioned queries on \"sales_order_orc\" table :\n",
    "\n",
    "a. Calculatye total sales per year\n",
    "Ans-a select  from sales_order_orc;\n",
    "\n",
    "b. Find a product for which maximum orders were placed\n",
    "Ans-b SELECT  PRODUCTCODE,MAX(ORDERNUMBER) FROM sales_order_orc;\n",
    "\n",
    "c. Calculate the total sales for each quarter\n",
    "Ans-c. SELECT QTR_ID,sum(SALES) FROM sales_order_orc;\n",
    "\n",
    "d. In which quarter sales was minimum\n",
    "Ans-d. SELECT QTR_ID,MIN(SALES)FROM sales_order_orc;\n",
    "\n",
    "e. In which country sales was maximum and in which country sales was minimum\n",
    "Ans-e.select Country from (\n",
    "(with cte as (select Country,COUNT(*) cnt\n",
    "from sales_order_orc\n",
    "group by Country)\n",
    "select Country,Rank() over (order by cnt desc) row_num from cte)a\n",
    "where a.row_num=1; \n",
    "\n",
    "f. Calculate quartelry sales for each city.\n",
    "h. Find a month for each year in which maximum number of quantities were sold"
   ]
  },
  {
   "cell_type": "code",
   "execution_count": null,
   "id": "77ed3369-e9e7-40ed-a215-8e6ab53265ec",
   "metadata": {},
   "outputs": [],
   "source": []
  }
 ],
 "metadata": {
  "kernelspec": {
   "display_name": "Python 3 (ipykernel)",
   "language": "python",
   "name": "python3"
  },
  "language_info": {
   "codemirror_mode": {
    "name": "ipython",
    "version": 3
   },
   "file_extension": ".py",
   "mimetype": "text/x-python",
   "name": "python",
   "nbconvert_exporter": "python",
   "pygments_lexer": "ipython3",
   "version": "3.10.6"
  }
 },
 "nbformat": 4,
 "nbformat_minor": 5
}
